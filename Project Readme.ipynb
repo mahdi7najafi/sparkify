{
 "cells": [
  {
   "cell_type": "markdown",
   "id": "14b32d65",
   "metadata": {},
   "source": [
    "## Project Introduction\n",
    "\n",
    "A startup called Sparkify wants to analyze the data they've been collecting on songs and user activity on their new music streaming app. The analytics team is particularly intreasted in understanding what songs users are listening to. Currently they do not have an easy way to query their data. The data resides in a directory of json logs, as well as directory with JSON metadata on the app.\n",
    "\n",
    "They'd like a data engineer to create a PostgreSQL database with tables designed to optimize queries on song paly analysis. Your rule is to create a database schema and ETL pipeline for this analysis. You should be able to test your database and ETL pipeline by running queries given to you by the analytics team in Sparkify. \n",
    "\n",
    "#### Dataset\n",
    "\n",
    "\n",
    "\n",
    "##### Schema Design\n"
   ]
  },
  {
   "cell_type": "markdown",
   "id": "3c0be01e",
   "metadata": {},
   "source": [
    "#### Setup Instructions and Steps \n",
    "- Install requirments with `pip3 install -r requirements.txt`\n",
    "- Set up a local PostgreSQL Instance on port 5432.\n",
    "\n",
    "#### Program Execution\n",
    "- Execute the script to generate the database and its tables by executing `python3 create_tables.py`\n",
    "- Load the data and insert it to the database by running `python3 etl.py`"
   ]
  }
 ],
 "metadata": {
  "kernelspec": {
   "display_name": "Python 3 (ipykernel)",
   "language": "python",
   "name": "python3"
  },
  "language_info": {
   "codemirror_mode": {
    "name": "ipython",
    "version": 3
   },
   "file_extension": ".py",
   "mimetype": "text/x-python",
   "name": "python",
   "nbconvert_exporter": "python",
   "pygments_lexer": "ipython3",
   "version": "3.10.6"
  }
 },
 "nbformat": 4,
 "nbformat_minor": 5
}
